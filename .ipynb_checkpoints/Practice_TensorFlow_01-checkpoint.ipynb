{
 "cells": [
  {
   "cell_type": "markdown",
   "id": "d220fdd0",
   "metadata": {},
   "source": [
    "- [ ] try to write the output where you have defined the Modlues/ functions\n",
    "- [ ] Handlw the memory issues\n",
    "- [ ] Write the code properly in tensorflow\n",
    "- [ ] Complete the code by '`6th May 2022`'"
   ]
  },
  {
   "cell_type": "code",
   "execution_count": 5,
   "id": "058fa32a",
   "metadata": {},
   "outputs": [],
   "source": [
    "import bz2, pickle\n",
    "import numpy as np\n",
    "import tensorflow as tf\n",
    "import tensorflow.nn as nn\n",
    "import sklearn\n",
    "import sklearn.metrics\n",
    "import matplotlib.pyplot as plt\n",
    "\n",
    "import os.path as osp\n",
    "import os\n",
    "import sys\n",
    "from glob import glob\n",
    "\n",
    "## TensorFlow geometric \n",
    "import tf_geometric as tfg\n"
   ]
  },
  {
   "cell_type": "markdown",
   "id": "61483d5e",
   "metadata": {},
   "source": [
    "- [ ] https://marubon-ds.blogspot.com/2017/09/knn-k-nearest-neighbors-by-tensorflow.html\n",
    "- [ ] https://github.com/tensorflow/graphics/blob/master/tensorflow_graphics/nn/layer/graph_convolution.py\n",
    "- [ ] https://github.com/aimat-lab/gcnn_keras \n",
    "- [ ] https://www.tensorflow.org/graphics/api_docs/python/tfg \n",
    "- [ ] https://github.com/tensorflow/graphics/blob/master/tensorflow_graphics/__init__.py \n",
    "- [ ] https://blog.tensorflow.org/2019/05/introducing-tensorflow-graphics_9.html \n",
    "- [ ] https://www.tensorflow.org/api_docs/python/tf/Tensor \n",
    "- [ ] https://stackoverflow.com/questions/60722008/is-there-any-way-to-convert-pytorch-tensor-to-tensorflow-tensor \n",
    "- [ ] tensorflow.org/api_docs/python/tf/Module\n",
    "- [ ] https://www.tensorflow.org/tutorials/estimator/linear\n",
    "- [ ] https://itecnote.com/tecnote/tensorflow-kerasmodels-add-missing-1-required-positional-argument-layer/ \n",
    "- [ ] https://tf-geometric.readthedocs.io/en/latest/modules/nn.html\n",
    "- [ ] https://www.tensorflow.org/graphics/api_docs/python/tfg/geometry \n",
    "\n",
    "\n"
   ]
  },
  {
   "cell_type": "markdown",
   "id": "f98756f6",
   "metadata": {},
   "source": [
    "Ref:<br>\n",
    "    https://tf-geometric.readthedocs.io/en/latest/ <br>\n",
    "    https://blog.tensorflow.org/2019/05/introducing-tensorflow-graphics_9.html "
   ]
  },
  {
   "cell_type": "code",
   "execution_count": null,
   "id": "5279675d",
   "metadata": {},
   "outputs": [],
   "source": []
  }
 ],
 "metadata": {
  "kernelspec": {
   "display_name": "Python 3 (ipykernel)",
   "language": "python",
   "name": "python3"
  },
  "language_info": {
   "codemirror_mode": {
    "name": "ipython",
    "version": 3
   },
   "file_extension": ".py",
   "mimetype": "text/x-python",
   "name": "python",
   "nbconvert_exporter": "python",
   "pygments_lexer": "ipython3",
   "version": "3.9.13"
  }
 },
 "nbformat": 4,
 "nbformat_minor": 5
}
